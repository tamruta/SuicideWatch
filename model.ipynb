{
  "metadata": {
    "language_info": {
      "codemirror_mode": {
        "name": "python",
        "version": 3
      },
      "file_extension": ".py",
      "mimetype": "text/x-python",
      "name": "python",
      "nbconvert_exporter": "python",
      "pygments_lexer": "ipython3",
      "version": "3.8"
    },
    "kernelspec": {
      "name": "python",
      "display_name": "Python (Pyodide)",
      "language": "python"
    }
  },
  "nbformat_minor": 4,
  "nbformat": 4,
  "cells": [
    {
      "cell_type": "code",
      "source": "import numpy as np\nimport pandas as pd\nfrom nltk.corpus import stopwords\nfrom sklearn.naive_bayes import MultinomialNB\nfrom sklearn.model_selection import train_test_split\nfrom sklearn.metrics import accuracy_score, classification_report\nfrom sklearn.feature_extraction.text import TfidfVectorizer",
      "metadata": {
        "trusted": true
      },
      "execution_count": 42,
      "outputs": []
    },
    {
      "cell_type": "code",
      "source": "data = pd.read_csv(\"saved.csv\", header=0, names=('','.','text','clas'), sep=';', usecols=['text','clas'])\ndata.head",
      "metadata": {
        "trusted": true
      },
      "execution_count": 43,
      "outputs": [
        {
          "execution_count": 43,
          "output_type": "execute_result",
          "data": {
            "text/plain": "<bound method NDFrame.head of                                                   text         clas\n0    Please help me. I just want to talk to somebod...      suicide\n1    Still lovin' having three mandatory meetings o...  non-suicide\n2                      I am horny And I am proud of it  non-suicide\n3    Reposting this when more people are awake so I...  non-suicide\n4    My mom and dad always ask me what i want to do...  non-suicide\n..                                                 ...          ...\n675  If you don't like rock then your not going to ...  non-suicide\n676  You how you can tell i have so many friends an...  non-suicide\n677  pee probably tastes like salty tea😏💦‼️ can som...  non-suicide\n678  The usual stuff you find hereI'm not posting t...      suicide\n679  I still haven't beaten the first boss in Hollo...  non-suicide\n\n[680 rows x 2 columns]>"
          },
          "metadata": {}
        }
      ]
    },
    {
      "cell_type": "code",
      "source": "data['clas'].value_counts()",
      "metadata": {
        "trusted": true
      },
      "execution_count": 44,
      "outputs": [
        {
          "execution_count": 44,
          "output_type": "execute_result",
          "data": {
            "text/plain": "non-suicide    347\nsuicide        333\nName: clas, dtype: int64"
          },
          "metadata": {}
        }
      ]
    },
    {
      "cell_type": "code",
      "source": "classification = {\n    \"suicide\": 1,\n    \"non-suicide\": 0\n}\ndata.replace({'clas':classification})",
      "metadata": {
        "trusted": true
      },
      "execution_count": 45,
      "outputs": [
        {
          "execution_count": 45,
          "output_type": "execute_result",
          "data": {
            "text/plain": "                                                  text  clas\n0    Please help me. I just want to talk to somebod...     1\n1    Still lovin' having three mandatory meetings o...     0\n2                      I am horny And I am proud of it     0\n3    Reposting this when more people are awake so I...     0\n4    My mom and dad always ask me what i want to do...     0\n..                                                 ...   ...\n675  If you don't like rock then your not going to ...     0\n676  You how you can tell i have so many friends an...     0\n677  pee probably tastes like salty tea😏💦‼️ can som...     0\n678  The usual stuff you find hereI'm not posting t...     1\n679  I still haven't beaten the first boss in Hollo...     0\n\n[680 rows x 2 columns]",
            "text/html": "<div>\n<style scoped>\n    .dataframe tbody tr th:only-of-type {\n        vertical-align: middle;\n    }\n\n    .dataframe tbody tr th {\n        vertical-align: top;\n    }\n\n    .dataframe thead th {\n        text-align: right;\n    }\n</style>\n<table border=\"1\" class=\"dataframe\">\n  <thead>\n    <tr style=\"text-align: right;\">\n      <th></th>\n      <th>text</th>\n      <th>clas</th>\n    </tr>\n  </thead>\n  <tbody>\n    <tr>\n      <th>0</th>\n      <td>Please help me. I just want to talk to somebod...</td>\n      <td>1</td>\n    </tr>\n    <tr>\n      <th>1</th>\n      <td>Still lovin' having three mandatory meetings o...</td>\n      <td>0</td>\n    </tr>\n    <tr>\n      <th>2</th>\n      <td>I am horny And I am proud of it</td>\n      <td>0</td>\n    </tr>\n    <tr>\n      <th>3</th>\n      <td>Reposting this when more people are awake so I...</td>\n      <td>0</td>\n    </tr>\n    <tr>\n      <th>4</th>\n      <td>My mom and dad always ask me what i want to do...</td>\n      <td>0</td>\n    </tr>\n    <tr>\n      <th>...</th>\n      <td>...</td>\n      <td>...</td>\n    </tr>\n    <tr>\n      <th>675</th>\n      <td>If you don't like rock then your not going to ...</td>\n      <td>0</td>\n    </tr>\n    <tr>\n      <th>676</th>\n      <td>You how you can tell i have so many friends an...</td>\n      <td>0</td>\n    </tr>\n    <tr>\n      <th>677</th>\n      <td>pee probably tastes like salty tea😏💦‼️ can som...</td>\n      <td>0</td>\n    </tr>\n    <tr>\n      <th>678</th>\n      <td>The usual stuff you find hereI'm not posting t...</td>\n      <td>1</td>\n    </tr>\n    <tr>\n      <th>679</th>\n      <td>I still haven't beaten the first boss in Hollo...</td>\n      <td>0</td>\n    </tr>\n  </tbody>\n</table>\n<p>680 rows × 2 columns</p>\n</div>"
          },
          "metadata": {}
        }
      ]
    },
    {
      "cell_type": "code",
      "source": "print(data.shape)",
      "metadata": {
        "trusted": true
      },
      "execution_count": 46,
      "outputs": [
        {
          "name": "stdout",
          "text": "(680, 2)\n",
          "output_type": "stream"
        }
      ]
    },
    {
      "cell_type": "code",
      "source": "vectorizer = TfidfVectorizer(use_idf=True, lowercase=True, strip_accents='ascii', stop_words={'english'})\nx = vectorizer.fit_transform(data.text.apply(lambda x: np.str_(x)))\ny = data.clas",
      "metadata": {
        "trusted": true
      },
      "execution_count": 47,
      "outputs": []
    },
    {
      "cell_type": "code",
      "source": "x.shape",
      "metadata": {
        "trusted": true
      },
      "execution_count": 48,
      "outputs": [
        {
          "execution_count": 48,
          "output_type": "execute_result",
          "data": {
            "text/plain": "(680, 6833)"
          },
          "metadata": {}
        }
      ]
    },
    {
      "cell_type": "code",
      "source": "y.shape",
      "metadata": {
        "trusted": true
      },
      "execution_count": 49,
      "outputs": [
        {
          "execution_count": 49,
          "output_type": "execute_result",
          "data": {
            "text/plain": "(680,)"
          },
          "metadata": {}
        }
      ]
    },
    {
      "cell_type": "code",
      "source": "feat = vectorizer.get_feature_names_out()\nfeat",
      "metadata": {
        "trusted": true
      },
      "execution_count": 50,
      "outputs": [
        {
          "execution_count": 50,
          "output_type": "execute_result",
          "data": {
            "text/plain": "array(['00', '000', '00pm', ..., 'zeus', 'zoloft', 'zoned'], dtype=object)"
          },
          "metadata": {}
        }
      ]
    },
    {
      "cell_type": "code",
      "source": "xtrain, xtest, ytrain, ytest = train_test_split(x, y, random_state=42)",
      "metadata": {
        "trusted": true
      },
      "execution_count": 51,
      "outputs": []
    },
    {
      "cell_type": "code",
      "source": "model = MultinomialNB()\nmodel.fit(xtrain, ytrain)",
      "metadata": {
        "trusted": true
      },
      "execution_count": 52,
      "outputs": [
        {
          "execution_count": 52,
          "output_type": "execute_result",
          "data": {
            "text/plain": "MultinomialNB()"
          },
          "metadata": {}
        }
      ]
    },
    {
      "cell_type": "code",
      "source": "ypred = model.predict(xtest)\nprint(accuracy_score(ytest, ypred))\n#print(classification_report(ytest, ypred))",
      "metadata": {
        "trusted": true
      },
      "execution_count": 53,
      "outputs": [
        {
          "name": "stdout",
          "text": "0.6\n",
          "output_type": "stream"
        }
      ]
    },
    {
      "cell_type": "code",
      "source": "newSen = pd.Series([\"i want to live\"])\nnewSenVec = vectorizer.transform(newSen)\nnewSenVec.shape",
      "metadata": {
        "trusted": true
      },
      "execution_count": 62,
      "outputs": [
        {
          "execution_count": 62,
          "output_type": "execute_result",
          "data": {
            "text/plain": "(1, 6833)"
          },
          "metadata": {}
        }
      ]
    },
    {
      "cell_type": "code",
      "source": "x = model.predict(newSenVec)",
      "metadata": {
        "trusted": true
      },
      "execution_count": 63,
      "outputs": []
    },
    {
      "cell_type": "code",
      "source": "x",
      "metadata": {
        "trusted": true
      },
      "execution_count": 64,
      "outputs": [
        {
          "execution_count": 64,
          "output_type": "execute_result",
          "data": {
            "text/plain": "array(['suicide'], dtype='<U11')"
          },
          "metadata": {}
        }
      ]
    }
  ]
}